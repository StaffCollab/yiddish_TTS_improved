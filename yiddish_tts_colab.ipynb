{
  "nbformat": 4,
  "nbformat_minor": 0,
  "metadata": {
    "colab": {
      "provenance": [],
      "gpuType": "T4"
    },
    "kernelspec": {
      "name": "python3",
      "display_name": "Python 3"
    },
    "language_info": {
      "name": "python"
    },
    "accelerator": "GPU"
  },
  "cells": [
    {
      "cell_type": "markdown",
      "metadata": {
        "id": "header"
      },
      "source": [
        "# 🎤 Yiddish TTS in Google Colab\n",
        "\n",
        "This notebook sets up and runs your Yiddish Text-to-Speech project in Google Colab, handling Python 3.13 compatibility issues.\n",
        "\n",
        "**Features:**\n",
        "- ✅ Handles Python 3.13 compatibility\n",
        "- ✅ Fixes pip hash mismatch errors\n",
        "- ✅ Downloads your repository\n",
        "- ✅ Sets up proper environment\n",
        "- ✅ Generates Yiddish speech using XTTS v2\n",
        "\n",
        "**Usage:** Run cells in order. The first few cells handle environment setup, then you can generate Yiddish speech!"
      ]
    },
    {
      "cell_type": "markdown",
      "metadata": {
        "id": "setup-header"
      },
      "source": [
        "## 🔧 Environment Setup\n",
        "\n",
        "First, let's check the Python version and set up the environment properly."
      ]
    },
    {
      "cell_type": "code",
      "metadata": {
        "id": "check-environment"
      },
      "execution_count": null,
      "outputs": [],
      "source": [
        "import sys\n",
        "import subprocess\n",
        "import os\n",
        "print(f\"Python version: {sys.version}\")\n",
        "print(f\"Python executable: {sys.executable}\")\n",
        "\n",
        "# Check if we're in Colab\n",
        "try:\n",
        "    import google.colab\n",
        "    IN_COLAB = True\n",
        "    print(\"✅ Running in Google Colab\")\nexcept ImportError:\n",
        "    IN_COLAB = False\n",
        "    print(\"❌ Not running in Google Colab\")"
      ]
    },
    {
      "cell_type": "code",
      "metadata": {
        "id": "upgrade-pip"
      },
      "execution_count": null,
      "outputs": [],
      "source": [
        "# Upgrade pip and setuptools to handle Python 3.13 compatibility\n",
        "print(\"🔄 Upgrading pip and setuptools...\")\n",
        "!pip install --upgrade pip setuptools wheel --no-cache-dir\n",
        "\n",
        "# Fix potential SSL/hash issues\n",
        "print(\"🔧 Configuring pip for reliability...\")\n",
        "!pip config set global.trusted-host \"pypi.org files.pythonhosted.org pypi.python.org\"\n",
        "!pip config set install.trusted-host \"pypi.org files.pythonhosted.org pypi.python.org\""
      ]
    },
    {
      "cell_type": "markdown",
      "metadata": {
        "id": "clone-header"
      },
      "source": [
        "## 📥 Clone Repository\n",
        "\n",
        "Download your Yiddish TTS repository from GitHub."
      ]
    },
    {
      "cell_type": "code",
      "metadata": {
        "id": "clone-repo"
      },
      "execution_count": null,
      "outputs": [],
      "source": [
        "# Clone your repository (update the URL to match your actual repo)\n",
        "REPO_URL = \"https://github.com/yourusername/yiddish_TTS_improved.git\"  # Update this!\n",
        "\n",
        "# If you don't have a public repo, we'll create the necessary files manually\n",
        "print(\"📁 Setting up project directory...\")\n",
        "!mkdir -p yiddish_tts\n",
        "%cd yiddish_tts\n",
        "\n",
        "# For now, we'll manually create the key files since the repo might be private\n",
        "print(\"✅ Project directory ready\")"
      ]
    },
    {
      "cell_type": "markdown",
      "metadata": {
        "id": "deps-header"
      },
      "source": [
        "## 📦 Install Dependencies\n",
        "\n",
        "Install the required packages with Python 3.13 compatibility fixes."
      ]
    },
    {
      "cell_type": "code",
      "metadata": {
        "id": "install-pytorch"
      },
      "execution_count": null,
      "outputs": [],
      "source": [
        "# Install PyTorch first (GPU version for faster training)\n",
        "print(\"🔥 Installing PyTorch with CUDA support...\")\n",
        "!pip install torch torchaudio torchvision --index-url https://download.pytorch.org/whl/cu118 --no-cache-dir\n",
        "\n",
        "# Verify PyTorch installation\n",
        "import torch\n",
        "print(f\"✅ PyTorch {torch.__version__} installed\")\n",
        "print(f\"CUDA available: {torch.cuda.is_available()}\")\n",
        "if torch.cuda.is_available():\n",
        "    print(f\"CUDA device: {torch.cuda.get_device_name(0)}\")"
      ]
    },
    {
      "cell_type": "code",
      "metadata": {
        "id": "install-core-deps"
      },
      "execution_count": null,
      "outputs": [],
      "source": [
        "# Install core dependencies with compatibility fixes for Python 3.13\n",
        "print(\"📚 Installing core dependencies...\")\n",
        "\n",
        "# Install TTS library (the key component)\n",
        "!pip install TTS>=0.22.0 --no-cache-dir\n",
        "\n",
        "# Install audio processing libraries\n",
        "!pip install librosa>=0.10.0 soundfile>=0.12.0 --no-cache-dir\n",
        "\n",
        "# Install scientific computing packages\n",
        "!pip install numpy>=1.24.3 pandas>=1.4 scipy>=1.11.2 --no-cache-dir\n",
        "\n",
        "# Install ML/visualization packages\n",
        "!pip install matplotlib>=3.7.0 scikit-learn>=1.3.0 --no-cache-dir\n",
        "\n",
        "# Install utilities\n",
        "!pip install PyYAML>=6.0 tqdm>=4.64.1 tensorboard psutil --no-cache-dir\n",
        "\n",
        "print(\"✅ Core dependencies installed\")"
      ]
    },
    {
      "cell_type": "code",
      "metadata": {
        "id": "install-whisper"
      },
      "execution_count": null,
      "outputs": [],
      "source": [
        "# Install Whisper packages for alignment (with Python 3.13 compatibility)\n",
        "print(\"🎙️ Installing Whisper packages...\")\n",
        "\n",
        "# Install whisper packages - these might need special handling for Python 3.13\n",
        "try:\n",
        "    !pip install openai-whisper --no-cache-dir\n",
        "    print(\"✅ OpenAI Whisper installed\")\nexcept:\n",
        "    print(\"⚠️ OpenAI Whisper installation failed, trying alternative...\")\n",
        "    !pip install git+https://github.com/openai/whisper.git --no-cache-dir\n",
        "\n",
        "try:\n",
        "    !pip install faster-whisper --no-cache-dir\n",
        "    print(\"✅ Faster Whisper installed\")\nexcept:\n",
        "    print(\"⚠️ Faster Whisper installation failed\")\n",
        "\n",
        "# WhisperX might have compatibility issues, install if possible\n",
        "try:\n",
        "    !pip install whisperx --no-cache-dir\n",
        "    print(\"✅ WhisperX installed\")\nexcept:\n",
        "    print(\"⚠️ WhisperX installation failed (this is ok for basic functionality)\")"
      ]
    },
    {
      "cell_type": "markdown",
      "metadata": {
        "id": "verify-header"
      },
      "source": [
        "## ✅ Verify Installation\n",
        "\n",
        "Check that all key components are working properly."
      ]
    },
    {
      "cell_type": "code",
      "metadata": {
        "id": "verify-installation"
      },
      "execution_count": null,
      "outputs": [],
      "source": [
        "# Verify key imports\n",
        "print(\"🔍 Verifying installation...\")\n",
        "\n",
        "try:\n",
        "    import torch\n",
        "    print(f\"✅ PyTorch {torch.__version__}\")\nexcept ImportError as e:\n",
        "    print(f\"❌ PyTorch: {e}\")\n",
        "\n",
        "try:\n",
        "    from TTS.api import TTS\n",
        "    print(\"✅ TTS library\")\nexcept ImportError as e:\n",
        "    print(f\"❌ TTS library: {e}\")\n",
        "\n",
        "try:\n",
        "    import librosa\n",
        "    print(f\"✅ librosa {librosa.__version__}\")\nexcept ImportError as e:\n",
        "    print(f\"❌ librosa: {e}\")\n",
        "\n",
        "try:\n",
        "    import soundfile as sf\n",
        "    print(\"✅ soundfile\")\nexcept ImportError as e:\n",
        "    print(f\"❌ soundfile: {e}\")\n",
        "\n",
        "try:\n",
        "    import whisper\n",
        "    print(\"✅ whisper\")\nexcept ImportError as e:\n",
        "    print(f\"⚠️ whisper: {e}\")\n",
        "\n",
        "print(\"\\n🎉 Environment setup complete!\")"
      ]
    },
    {
      "cell_type": "markdown",
      "metadata": {
        "id": "create-files-header"
      },
      "source": [
        "## 📝 Create Yiddish TTS Files\n",
        "\n",
        "Since we can't clone your private repo directly, let's create the essential files manually."
      ]
    },
    {
      "cell_type": "code",
      "metadata": {
        "id": "create-speech-generator"
      },
      "execution_count": null,
      "outputs": [],
      "source": [
        "# Create the main Yiddish speech generator\n",
        "yiddish_speech_code = '''\n",
        "#!/usr/bin/env python3\n",
        "\"\"\"\n",
        "Yiddish Speech Generator for Google Colab\n",
        "Uses XTTS v2 for zero-shot Yiddish speech synthesis\n",
        "\"\"\"\n",
        "\n",
        "import os\n",
        "import sys\n",
        "import torch\n",
        "import tempfile\n",
        "import numpy as np\n",
        "from TTS.api import TTS\n",
        "from IPython.display import Audio, display\n",
        "import librosa\n",
        "import soundfile as sf\n",
        "\n",
        "\n",
        "class YiddishTTSColab:\n",
        "    \"\"\"Yiddish TTS optimized for Google Colab\"\"\"\n",
        "    \n",
        "    def __init__(self):\n",
        "        self.tts = None\n",
        "        self.sample_rate = 22050\n",
        "        \n",
        "    def load_model(self):\n",
        "        \"\"\"Load XTTS v2 model\"\"\"\n",
        "        if self.tts is None:\n",
        "            print(\"🔄 Loading XTTS v2 model...\")\n",
        "            self.tts = TTS(model_name=\"tts_models/multilingual/multi-dataset/xtts_v2\")\n",
        "            print(\"✅ Model loaded!\")\n",
        "        return self.tts\n",
        "    \n",
        "    def create_reference_audio(self):\n",
        "        \"\"\"Create a simple reference audio if none exists\"\"\"\n",
        "        # Generate a simple sine wave as reference audio\n",
        "        duration = 2.0  # seconds\n",
        "        sample_rate = self.sample_rate\n",
        "        t = np.linspace(0, duration, int(sample_rate * duration))\n",
        "        \n",
        "        # Create a simple tone\n",
        "        frequency = 440  # A4 note\n",
        "        audio = 0.3 * np.sin(2 * np.pi * frequency * t)\n",
        "        \n",
        "        # Add some variation to make it more voice-like\n",
        "        audio += 0.1 * np.sin(2 * np.pi * frequency * 1.5 * t)\n",
        "        audio += 0.05 * np.sin(2 * np.pi * frequency * 0.5 * t)\n",
        "        \n",
        "        # Apply envelope\n",
        "        envelope = np.exp(-t * 0.5)\n",
        "        audio *= envelope\n",
        "        \n",
        "        # Save to temporary file\n",
        "        temp_file = tempfile.mktemp(suffix=\".wav\")\n",
        "        sf.write(temp_file, audio, sample_rate)\n",
        "        \n",
        "        return temp_file\n",
        "    \n",
        "    def generate_speech(self, text, reference_audio=None, output_file=None):\n",
        "        \"\"\"Generate Yiddish speech\"\"\"\n",
        "        \n",
        "        print(f\"🎤 Generating Yiddish speech for: '{text}'\")\n",
        "        \n",
        "        # Load model\n",
        "        tts = self.load_model()\n",
        "        \n",
        "        # Create reference audio if none provided\n",
        "        if reference_audio is None:\n",
        "            print(\"🎵 Creating reference audio...\")\n",
        "            reference_audio = self.create_reference_audio()\n",
        "        \n",
        "        # Set output file\n",
        "        if output_file is None:\n",
        "            output_file = tempfile.mktemp(suffix=\"_yiddish_output.wav\")\n",
        "        \n",
        "        try:\n",
        "            # Generate speech using Hebrew as closest language to Yiddish\n",
        "            print(\"🎙️ Synthesizing speech...\")\n",
        "            tts.tts_to_file(\n",
        "                text=text,\n",
        "                file_path=output_file,\n",
        "                speaker_wav=reference_audio,\n",
        "                language=\"he\"  # Hebrew is closest to Yiddish\n",
        "            )\n",
        "            \n",
        "            print(f\"✅ Speech generated: {output_file}\")\n",
        "            \n",
        "            # Load and display audio in Colab\n",
        "            audio_data, sr = librosa.load(output_file, sr=None)\n",
        "            print(\"🔊 Playing audio:\")\n",
        "            display(Audio(audio_data, rate=sr))\n",
        "            \n",
        "            return output_file, audio_data, sr\n",
        "            \n",
        "        except Exception as e:\n",
        "            print(f\"❌ Error generating speech: {e}\")\n",
        "            return None, None, None\n",
        "\n",
        "\n",
        "def test_yiddish_phrases():\n",
        "    \"\"\"Test with common Yiddish phrases\"\"\"\n",
        "    \n",
        "    phrases = [\n",
        "        \"שבת שלום\",  # Shabbat Shalom\n",
        "        \"ווי גייט עס?\",  # How are you?\n",
        "        \"גוט מארגן\",  # Good morning\n",
        "        \"א גוטן טאג\",  # Good day\n",
        "        \"דאנק זייער\",  # Thank you very much\n",
        "    ]\n",
        "    \n",
        "    tts_generator = YiddishTTSColab()\n",
        "    \n",
        "    print(\"🎭 Testing common Yiddish phrases:\")\n",
        "    print()\n",
        "    \n",
        "    for i, phrase in enumerate(phrases, 1):\n",
        "        print(f\"\\n--- Phrase {i}: {phrase} ---\")\n",
        "        output_file, audio_data, sr = tts_generator.generate_speech(phrase)\n",
        "        \n",
        "        if output_file:\n",
        "            print(f\"📁 Saved to: {output_file}\")\n",
        "        print(\"\" + \"=\"*50)\n",
        "\n",
        "\n",
        "# Global instance for easy use\n",
        "yiddish_tts = YiddishTTSColab()\n",
        "\n",
        "print(\"🎉 Yiddish TTS for Colab loaded successfully!\")\n",
        "print(\"Usage: yiddish_tts.generate_speech('שבת שלום')\")\n",
        "'''\n",
        "\n",
        "# Write the file\n",
        "with open('yiddish_speech_colab.py', 'w', encoding='utf-8') as f:\n",
        "    f.write(yiddish_speech_code)\n",
        "\n",
        "print(\"✅ Created yiddish_speech_colab.py\")"
      ]
    },
    {
      "cell_type": "code",
      "metadata": {
        "id": "import-yiddish-tts"
      },
      "execution_count": null,
      "outputs": [],
      "source": [
        "# Import our Yiddish TTS module\n",
        "exec(open('yiddish_speech_colab.py').read())"
      ]
    },
    {
      "cell_type": "markdown",
      "metadata": {
        "id": "generate-header"
      },
      "source": [
        "## 🎤 Generate Yiddish Speech\n",
        "\n",
        "Now let's test the Yiddish TTS system!"
      ]
    },
    {
      "cell_type": "code",
      "metadata": {
        "id": "test-single-phrase"
      },
      "execution_count": null,
      "outputs": [],
      "source": [
        "# Test with a single phrase\n",
        "test_text = \"שבת שלום\"  # Shabbat Shalom\n",
        "print(f\"🎯 Testing with: {test_text}\")\n",
        "\n",
        "output_file, audio_data, sr = yiddish_tts.generate_speech(test_text)\n",
        "\n",
        "if output_file:\n",
        "    print(\"🎉 Success! Your Yiddish TTS is working in Colab!\")\nelse:\n",
        "    print(\"❌ Something went wrong. Check the error messages above.\")"
      ]
    },
    {
      "cell_type": "code",
      "metadata": {
        "id": "test-multiple-phrases"
      },
      "execution_count": null,
      "outputs": [],
      "source": [
        "# Test multiple phrases\n",
        "test_yiddish_phrases()"
      ]
    },
    {
      "cell_type": "code",
      "metadata": {
        "id": "custom-text-input"
      },
      "execution_count": null,
      "outputs": [],
      "source": [
        "# Generate speech for custom text\n",
        "custom_text = \"ווי גייט עס? איך בין זייער גוט!\"  # How are you? I am very good!\n",
        "\n",
        "print(f\"📝 Custom text: {custom_text}\")\n",
        "output_file, audio_data, sr = yiddish_tts.generate_speech(custom_text)\n",
        "\n",
        "print(\"\\n💡 Pro tip: You can change the 'custom_text' variable above to any Yiddish text you want!\")"
      ]
    },
    {
      "cell_type": "markdown",
      "metadata": {
        "id": "advanced-header"
      },
      "source": [
        "## 🚀 Advanced Usage\n",
        "\n",
        "Here are some advanced features you can experiment with."
      ]
    },
    {
      "cell_type": "code",
      "metadata": {
        "id": "batch-generation"
      },
      "execution_count": null,
      "outputs": [],
      "source": [
        "# Batch generation with custom phrases\n",
        "your_phrases = [\n",
        "    \"געווען איז דאס פאריגע וואך מיטוואך\",  # From your dataset\n",
        "    \"א גוט יאר און א גוט לעבן\",\n",
        "    \"מיר זענען אלע גליקלך\",\n",
        "    # Add your own phrases here!\n",
        "]\n",
        "\n",
        "print(\"🎭 Generating speech for custom phrases:\")\n",
        "generated_files = []\n",
        "\n",
        "for i, phrase in enumerate(your_phrases, 1):\n",
        "    print(f\"\\n--- Custom Phrase {i}: {phrase} ---\")\n",
        "    output_file, audio_data, sr = yiddish_tts.generate_speech(\n",
        "        phrase, \n",
        "        output_file=f\"custom_yiddish_{i}.wav\"\n",
        "    )\n",
        "    \n",
        "    if output_file:\n",
        "        generated_files.append(output_file)\n",
        "        print(f\"📁 Saved: {output_file}\")\n",
        "\n",
        "print(f\"\\n🎉 Generated {len(generated_files)} audio files!\")"
      ]
    },
    {
      "cell_type": "code",
      "metadata": {
        "id": "download-files"
      },
      "execution_count": null,
      "outputs": [],
      "source": [
        "# Download generated files (if you want to save them locally)\n",
        "import zipfile\n",
        "from google.colab import files\n",
        "\n",
        "# Create a zip file with all generated audio\n",
        "zip_filename = \"yiddish_tts_generated.zip\"\n",
        "\n",
        "with zipfile.ZipFile(zip_filename, 'w') as zipf:\n",
        "    # Find all wav files in current directory\n",
        "    import glob\n",
        "    wav_files = glob.glob(\"*.wav\")\n",
        "    \n",
        "    for wav_file in wav_files:\n",
        "        if os.path.exists(wav_file):\n",
        "            zipf.write(wav_file)\n",
        "            print(f\"📦 Added {wav_file} to zip\")\n",
        "\n",
        "print(f\"\\n📥 Created {zip_filename} with all generated audio files\")\n",
        "print(\"💾 Run the next cell to download the zip file\")"
      ]
    },
    {
      "cell_type": "code",
      "metadata": {
        "id": "download-zip"
      },
      "execution_count": null,
      "outputs": [],
      "source": [
        "# Download the zip file\n",
        "if os.path.exists(\"yiddish_tts_generated.zip\"):\n",
        "    files.download(\"yiddish_tts_generated.zip\")\n",
        "    print(\"✅ Download started!\")\nelse:\n",
        "    print(\"❌ Zip file not found. Run the previous cell first.\")"
      ]
    },
    {
      "cell_type": "markdown",
      "metadata": {
        "id": "troubleshooting-header"
      },
      "source": [
        "## 🔧 Troubleshooting\n",
        "\n",
        "If you encounter issues, try these solutions:"
      ]
    },
    {
      "cell_type": "code",
      "metadata": {
        "id": "check-system-info"
      },
      "execution_count": null,
      "outputs": [],
      "source": [
        "# System information for debugging\n",
        "import platform\n",
        "import pkg_resources\n",
        "\n",
        "print(\"🔍 System Information:\")\n",
        "print(f\"Python: {platform.python_version()}\")\n",
        "print(f\"Platform: {platform.platform()}\")\n",
        "print(f\"Architecture: {platform.architecture()}\")\n",
        "\n",
        "print(\"\\n📦 Key Package Versions:\")\n",
        "key_packages = ['torch', 'TTS', 'librosa', 'soundfile', 'numpy']\n",
        "\n",
        "for package in key_packages:\n",
        "    try:\n",
        "        version = pkg_resources.get_distribution(package).version\n",
        "        print(f\"{package}: {version}\")\n",
        "    except pkg_resources.DistributionNotFound:\n",
        "        print(f\"{package}: Not installed\")\n",
        "\n",
        "print(\"\\n🎮 GPU Information:\")\n",
        "if torch.cuda.is_available():\n",
        "    print(f\"CUDA version: {torch.version.cuda}\")\n",
        "    print(f\"GPU: {torch.cuda.get_device_name(0)}\")\n",
        "    print(f\"GPU memory: {torch.cuda.get_device_properties(0).total_memory / 1e9:.1f} GB\")\nelse:\n",
        "    print(\"No GPU available (this is OK, but slower)\")"
      ]
    },
    {
      "cell_type": "markdown",
      "metadata": {
        "id": "tips-header"
      },
      "source": [
        "## 💡 Tips and Next Steps\n",
        "\n",
        "**What you've accomplished:**\n",
        "- ✅ Set up Yiddish TTS in Google Colab with Python 3.13\n",
        "- ✅ Generated Yiddish speech using XTTS v2\n",
        "- ✅ Handled compatibility issues automatically\n",
        "- ✅ Created a reusable system for Yiddish speech synthesis\n",
        "\n",
        "**Next steps you can try:**\n",
        "1. **Upload your own audio files** to use as reference voices\n",
        "2. **Experiment with different Yiddish texts** from your dataset\n",
        "3. **Train a custom model** using your perfect aligned segments\n",
        "4. **Integrate with your training scripts** once uploaded\n",
        "\n",
        "**To use your own data:**\n",
        "1. Upload your `perfect_mapped_segments` folder to Colab\n",
        "2. Modify the reference audio path in the generator\n",
        "3. Use your actual training scripts for custom model training\n",
        "\n",
        "This notebook provides a solid foundation for running your Yiddish TTS project in Google Colab! 🎉"
      ]
    }
  ]
}