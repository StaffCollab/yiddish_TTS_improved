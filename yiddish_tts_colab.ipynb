{
 "cells": [
  {
   "cell_type": "markdown",
   "id": "73290061",
   "metadata": {},
   "source": [
    "# Yiddish TTS — Colab setup\n",
    "\n",
    "This notebook sets up a Colab environment that can run the `generate_yiddish_speech.py` script from your repository.\n",
    "\n",
    "Follow cells in order. If you use GPU, switch Runtime -> Change runtime type -> GPU. For Coqui TTS compatibility, CPU runtime is acceptable but slower."
   ]
  },
  {
   "cell_type": "markdown",
   "id": "3effc343",
   "metadata": {},
   "source": [
    "# Yiddish TTS — Colab setup\n",
    "\n",
    "This notebook sets up a Colab environment that can run the `generate_yiddish_speech.py` script from your repository.\n",
    "\n",
    "Follow cells in order. If you use GPU, switch Runtime -> Change runtime type -> GPU. For Coqui TTS compatibility, CPU runtime is acceptable but slower."
   ]
  },
  {
   "cell_type": "markdown",
   "id": "ec19d8e6",
   "metadata": {},
   "source": [
    "## 1) Mount Google Drive\n",
    "\n",
    "Mount Drive so you can persist outputs and upload your repository ZIP into Drive."
   ]
  },
  {
   "cell_type": "code",
   "execution_count": null,
   "id": "36017af4",
   "metadata": {},
   "outputs": [],
   "source": [
    "from google.colab import drive\n",
    "drive.mount('/content/drive')\n",
    "# Create a working folder in Drive for this notebook\n",
    "import os\n",
    "workdir = '/content/drive/MyDrive/yiddish_tts_colab'\n",
    "os.makedirs(workdir, exist_ok=True)\n",
    "print('Working directory:', workdir)\n",
    "print('Drive mounted; you can upload your repo ZIP to this folder and unzip it here.')\n",
    ":\n",
    ",\n",
    ": {\n",
    ":\n",
    " },\n",
    ": [\n",
    "2\n",
    ",\n",
    ",\n",
    "\n",
    ":\n",
    ",\n",
    ": {\n",
    ":\n",
    " },\n",
    ": [\n",
    ",\n",
    ",\n",
    ",\n",
    ",\n",
    ","
   ]
  },
  {
   "cell_type": "markdown",
   "id": "9972906a",
   "metadata": {},
   "source": [
    "## 3) Important: Python version compatibility\n",
    "\n",
    "Colab may ship newer system Python (for example 3.13). Coqui TTS and many audio libraries currently require Python <= 3.11. Two options are provided below:\n",
    "\n",
    "1) Quick (may fail on 3.13): install packages into the notebook environment with pip.\n",
    "2) Robust (recommended): install a separate Python 3.11 runtime using micromamba/conda and use that Python to install TTS."
   ]
  },
  {
   "cell_type": "markdown",
   "id": "1e853061",
   "metadata": {},
   "source": [
    "### 3a) Quick install (use only if your Colab runtime is <= 3.11)\n",
    "\n",
    "Run this cell to install required packages into the current Python. If you see errors related to Python version incompatibility, skip to the micromamba section."
   ]
  },
  {
   "cell_type": "code",
   "execution_count": null,
   "id": "72a95c0f",
   "metadata": {},
   "outputs": [],
   "source": [
    "# Quick install into the current runtime (may fail on Python 3.13)\n",
    "!pip install --upgrade pip setuptools wheel\n",
    "!pip install --quiet --no-cache-dir torch==2.2.2+cpu --index-url https://download.pytorch.org/whl/cpu || true\n",
    "!pip install --quiet --no-cache-dir TTS soundfile librosa numpy==1.24.3 pandas scipy matplotlib scikit-learn PyYAML tqdm tensorboard psutil || true\n",
    "print('Quick install attempted (errors above if any).')"
   ]
  },
  {
   "cell_type": "markdown",
   "id": "b0d29c21",
   "metadata": {},
   "source": [
    "### 3b) Robust (recommended) — create Python 3.11 using micromamba and install packages there\n",
    "\n",
    "This creates an isolated conda-style environment with Python 3.11, installs TTS and dependencies, and then runs the repository scripts with that Python binary. This avoids conflicts with Colab's system Python."
   ]
  },
  {
   "cell_type": "code",
   "execution_count": null,
   "id": "2fa8da53",
   "metadata": {},
   "outputs": [],
   "source": [
    "# Install micromamba (small, fast) and create a Python 3.11 environment\n",
    "import os, textwrap\n",
    "MAMBA_DIR = '/content/micromamba'\n",
    "ENV_PREFIX = '/content/py311'\n",
    "if not os.path.exists(MAMBA_DIR):\n",
    "    print('Installing micromamba...')\n",
    "    !wget -qO micromamba.tar.bz2 https://micromamba.snakepit.net/api/micromamba/linux-64/latest\n",
    "    !mkdir -p {MAMBA_DIR} && tar -xjf micromamba.tar.bz2 -C {MAMBA_DIR} --strip-components=1\n",
    "else:\n",
    "    print('micromamba already downloaded')\n",
    "# Create env with python 3.11 + pip\n",
    "if not os.path.exists(ENV_PREFIX):\n",
    "    print('Creating Python 3.11 environment... (this may take a minute)')\n",
    "    !{MAMBA_DIR}/bin/micromamba create -y -p {ENV_PREFIX} python=3.11 pip -c conda-forge\n",
    "else:\n",
    "    print('Python 3.11 environment already exists at', ENV_PREFIX)\n",
    "# Show the python binary path to use\n",
    "python_bin = os.path.join(ENV_PREFIX, 'bin', 'python')\n",
    "print('Use this python for installs and running the repo:', python_bin)\n",
    "print('\n",
    "Now install TTS and audio deps into that Python (next cell).')"
   ]
  },
  {
   "cell_type": "code",
   "execution_count": null,
   "id": "f007baeb",
   "metadata": {},
   "outputs": [],
   "source": [
    "# Install Coqui TTS and required packages into the micromamba env\n",
    "from pathlib import Path\n",
    "PY311 = Path('/content/py311/bin/python')\n",
    "if not PY311.exists():\n",
    "    raise SystemExit('Python 3.11 env not found. Run the cell that creates micromamba env first.')\n",
    "# Upgrade pip inside the env and install packages (adjust pins if needed)\n",
    "!/content/py311/bin/python -m pip install --upgrade pip setuptools wheel\n",
    "!/content/py311/bin/python -m pip install --no-cache-dir --index-url https://download.pytorch.org/whl/cpu torch==2.2.2+cpu || true\n",
    "!/content/py311/bin/python -m pip install --no-cache-dir TTS==0.22.0 soundfile librosa numpy==1.24.3 pandas==2.2.2 scipy matplotlib scikit-learn PyYAML tqdm tensorboard psutil || true\n",
    "print('Installation into Python 3.11 env completed (or attempted).')"
   ]
  },
  {
   "cell_type": "markdown",
   "id": "0c3b7862",
   "metadata": {},
   "source": [
    "## 4) Import Libraries & Reproducibility\n",
    "\n",
    "Import main libraries and set seeds for reproducibility. If you used the micromamba path, run these checks using the created Python binary (examples below)."
   ]
  },
  {
   "cell_type": "code",
   "execution_count": null,
   "id": "8d140ccd",
   "metadata": {},
   "outputs": [],
   "source": [
    "# If you installed into the micromamba env, run the check with that python:\n",
    "# /content/py311/bin/python -c \"import torch, sys; print(sys.version); print(torch.__version__, torch.cuda.is_available())\"\n",
    "\n",
    "# For small checks in the current notebook (may still be the system python):\n",
    "import random, numpy as np, os, sys\n",
    "SEED = 42\n",
    "random.seed(SEED)\n",
    "np.random.seed(SEED)\n",
    "try:\n",
    "    import torch\n",
    "    torch.manual_seed(SEED)\n",
    "    print('Torch version (current runtime):', torch.__version__)\n",
    "except Exception as e:\n",
    "    print('Torch not available in this runtime:', e)\n",
    "print('Current Python:', sys.version)\n",
    "print('If you want to run the repo using Python 3.11, use /content/py311/bin/python')\n",
    ":\n",
    ",\n",
    ": {\n",
    ":\n",
    " },\n",
    ": [\n",
    "5\n",
    ",\n",
    ",\n",
    "\n",
    ":\n",
    ",\n",
    ": {\n",
    ":\n",
    " },\n",
    ": [\n",
    ",\n",
    ",\n",
    ",\n",
    ","
   ]
  },
  {
   "cell_type": "code",
   "execution_count": null,
   "id": "798f0b70",
   "metadata": {},
   "outputs": [],
   "source": [
    "# Example: unzip a repo ZIP placed in Drive working dir\n",
    "import os\n",
    "repo_zip = os.path.join(workdir, 'yiddish_TTS_improved.zip')\n",
    "if os.path.exists(repo_zip):\n",
    "    print('Found ZIP, extracting...')\n",
    "    !unzip -q \"$repo_zip\" -d /content/yiddish_repo\n",
    "    print('Extracted to /content/yiddish_repo')\n",
    "else:\n",
    "    print('No ZIP found at', repo_zip)\n"
   ]
  },
  {
   "cell_type": "markdown",
   "id": "808f6219",
   "metadata": {},
   "source": [
    "## 6) Data Loading and Preprocessing (reference audio check)\n",
    "\n",
    "Ensure your dataset reference audio exists or upload a replacement file."
   ]
  },
  {
   "cell_type": "code",
   "execution_count": null,
   "id": "9bb7d72c",
   "metadata": {},
   "outputs": [],
   "source": [
    "# Check for the default reference audio path used by the script\n",
    "default_ref = '/content/yiddish_repo/tts_segments/audio/segment_0001.wav'\n",
    "import os\n",
    "if os.path.exists(default_ref):\n",
    "    print('Reference audio found:', default_ref)\n",
    "else:\n",
    "    print('Reference audio not found at default location.')\n",
    "    print('If you have a local reference audio, upload it now:')\n",
    "    # files.upload()  # uncomment to interactively upload a reference audio file"
   ]
  },
  {
   "cell_type": "markdown",
   "id": "5d66cdf0",
   "metadata": {},
   "source": [
    "## 7) Core functions — run the `generate_yiddish_speech.py` script\n",
    "\n",
    "This cell runs the repository script with a custom Yiddish phrase and shows output. Adjust paths if you unzipped to a different folder. If you used micromamba, call the /content/py311/bin/python binary."
   ]
  },
  {
   "cell_type": "code",
   "execution_count": null,
   "id": "f12a82ac",
   "metadata": {},
   "outputs": [],
   "source": [
    "# Path to the repo script\n",
    "script_path = '/content/yiddish_repo/generate_yiddish_speech.py'\n",
    "if not os.path.exists(script_path):\n",
    "    # Fallback to searching current working dir if you uploaded just the script\n",
    "    script_path = '/content/generate_yiddish_speech.py'\n",
    "\n",
    "if not os.path.exists(script_path):\n",
    "    raise FileNotFoundError('generate_yiddish_speech.py not found in notebook. Upload it or unzip repo into Drive and rerun this cell.')\n",
    "\n",
    "# Example run with a custom Yiddish phrase\n",
    "yiddish_text = 'שבת שלום, ווי גייט עס?'\n",
    "output_file = '/content/yiddish_output.wav'\n",
    "print('Running script with system python (if you want to use Python 3.11 env, replace python3 with /content/py311/bin/python)')\n",
    "!python3 \"$script_path\" \"$yiddish_text\" || true\n",
    "print('If the script ran, output saved to', output_file, 'or look in the repo-specific sample folder.')"
   ]
  },
  {
   "cell_type": "code",
   "execution_count": null,
   "id": "d298a175",
   "metadata": {},
   "outputs": [],
   "source": [
    "# Run the script without args to generate built-in sample phrases (no-arg mode)\n",
    "!python3 /content/yiddish_repo/generate_yiddish_speech.py || true\n",
    "print('Script executed (errors shown above if any). Check yiddish_speech_samples/ in the repo folder for outputs.')\n",
    ":\n",
    ",\n",
    ": {\n",
    ":\n",
    " },\n",
    ": [\n",
    "8\n",
    ",\n",
    ",\n",
    "\n",
    ":\n",
    ",\n",
    ": {\n",
    ":\n",
    " },\n",
    ": [\n",
    "!cp -r /content/yiddish_repo/yiddish_speech_samples /content/drive/MyDrive/yiddish_tts_colab/outputs || true\n",
    "print('Copied any generated samples to Drive: /content/drive/MyDrive/yiddish_tts_colab/outputs')"
   ]
  },
  {
   "cell_type": "markdown",
   "id": "a1c2e9b1",
   "metadata": {},
   "source": [
    "## 9) Basic runtime checks\n",
    "\n",
    "A few asserts to validate the environment and basic functions. If you used the micromamba flow, run the checks with /content/py311/bin/python."
   ]
  },
  {
   "cell_type": "code",
   "execution_count": null,
   "id": "b4ae8824",
   "metadata": {},
   "outputs": [],
   "source": [
    "# Check that TTS can be imported in the current runtime (or use the py311 python to test the env)\n",
    "try:\n",
    "    from TTS.api import TTS\n",
    "    print('TTS import OK (current runtime)')\n",
    "except Exception as e:\n",
    "    print('TTS import failed in current runtime:', e)\n",
    "# Check torch import and device\n",
    "import torch\n",
    "print('Torch version:', torch.__version__)\n",
    "print('CUDA available:', torch.cuda.is_available())"
   ]
  },
  {
   "cell_type": "markdown",
   "id": "8e667d56",
   "metadata": {},
   "source": [
    "## 10) Visualize results\n",
    "\n",
    "You can listen to output files or plot spectrograms. Example to display an audio player for an output file."
   ]
  },
  {
   "cell_type": "code",
   "execution_count": null,
   "id": "22bb3ac2",
   "metadata": {},
   "outputs": [],
   "source": [
    "from IPython.display import Audio, display\n",
    "example_out = '/content/yiddish_output.wav'\n",
    "import os\n",
    "if os.path.exists(example_out):\n",
    "    display(Audio(example_out))\n",
    "else:\n",
    "    print('No example output available at', example_out)"
   ]
  }
 ],
 "metadata": {
  "language_info": {
   "name": "python"
  }
 },
 "nbformat": 4,
 "nbformat_minor": 5
}
